{
 "cells": [
  {
   "cell_type": "markdown",
   "id": "b1cc1185",
   "metadata": {},
   "source": [
    "# EDAAA"
   ]
  },
  {
   "cell_type": "code",
   "execution_count": 12,
   "id": "b64de02e",
   "metadata": {},
   "outputs": [],
   "source": [
    "import re\n",
    "import pandas as pd\n",
    "import numpy as np\n",
    "import seaborn as sns\n",
    "import matplotlib.pyplot as plt\n",
    "import chart_studio.plotly as py\n",
    "\n",
    "%matplotlib inline\n",
    "\n",
    "import warnings\n",
    "warnings.filterwarnings(\"ignore\")"
   ]
  },
  {
   "cell_type": "code",
   "execution_count": 13,
   "id": "8450cef8",
   "metadata": {},
   "outputs": [],
   "source": [
    "contracts = pd.read_csv('Контракты 44ФЗ.csv', ';')"
   ]
  },
  {
   "cell_type": "code",
   "execution_count": 14,
   "id": "6a2ea9b6",
   "metadata": {},
   "outputs": [],
   "source": [
    "sprav = pd.read_csv('Справочник пром производства.csv', ';')"
   ]
  },
  {
   "cell_type": "code",
   "execution_count": 15,
   "id": "73418ff9",
   "metadata": {},
   "outputs": [],
   "source": [
    "offers = pd.read_csv('Ценовые предложения поставщиков.csv', ';')"
   ]
  },
  {
   "cell_type": "markdown",
   "id": "c40368b2",
   "metadata": {},
   "source": [
    "# General info for every file"
   ]
  },
  {
   "cell_type": "code",
   "execution_count": 16,
   "id": "37ec0b81",
   "metadata": {},
   "outputs": [
    {
     "data": {
      "text/html": [
       "<div>\n",
       "<style scoped>\n",
       "    .dataframe tbody tr th:only-of-type {\n",
       "        vertical-align: middle;\n",
       "    }\n",
       "\n",
       "    .dataframe tbody tr th {\n",
       "        vertical-align: top;\n",
       "    }\n",
       "\n",
       "    .dataframe thead th {\n",
       "        text-align: right;\n",
       "    }\n",
       "</style>\n",
       "<table border=\"1\" class=\"dataframe\">\n",
       "  <thead>\n",
       "    <tr style=\"text-align: right;\">\n",
       "      <th></th>\n",
       "      <th>product_name</th>\n",
       "      <th>price</th>\n",
       "      <th>product_vat_rate</th>\n",
       "      <th>product_msr</th>\n",
       "      <th>product_characteristics</th>\n",
       "      <th>okpd2_code</th>\n",
       "      <th>okpd2_name</th>\n",
       "      <th>inn</th>\n",
       "      <th>country_code</th>\n",
       "    </tr>\n",
       "  </thead>\n",
       "  <tbody>\n",
       "    <tr>\n",
       "      <th>0</th>\n",
       "      <td>Драм-юнит Cet CET8997</td>\n",
       "      <td>7605.00</td>\n",
       "      <td>0%</td>\n",
       "      <td>Штука</td>\n",
       "      <td>NaN</td>\n",
       "      <td>28.23.25.000</td>\n",
       "      <td>Части и принадлежности прочих офисных машин</td>\n",
       "      <td>6a2325da490021b46bb00834ab4a560a</td>\n",
       "      <td>156</td>\n",
       "    </tr>\n",
       "    <tr>\n",
       "      <th>1</th>\n",
       "      <td>Лук репчатый</td>\n",
       "      <td>48.75</td>\n",
       "      <td>Без НДС</td>\n",
       "      <td>Килограмм</td>\n",
       "      <td>Дополнительные показатели (характеристики): Ук...</td>\n",
       "      <td>01.13.43.110</td>\n",
       "      <td>Лук репчатый</td>\n",
       "      <td>c8f328b188e78a1673db8cc2db1b6828</td>\n",
       "      <td>643</td>\n",
       "    </tr>\n",
       "    <tr>\n",
       "      <th>2</th>\n",
       "      <td>Карандаш механический (Страна происхождения : ...</td>\n",
       "      <td>8.00</td>\n",
       "      <td>20%</td>\n",
       "      <td>Штука</td>\n",
       "      <td>NaN</td>\n",
       "      <td>32.99.12.130</td>\n",
       "      <td>Карандаши механические</td>\n",
       "      <td>9d785973706feeff180ee96a247135e6</td>\n",
       "      <td>156</td>\n",
       "    </tr>\n",
       "    <tr>\n",
       "      <th>3</th>\n",
       "      <td>Имплантаты для остеосинтеза варианты исполнени...</td>\n",
       "      <td>5200.00</td>\n",
       "      <td>Без НДС</td>\n",
       "      <td>Штука</td>\n",
       "      <td>NaN</td>\n",
       "      <td>32.50.50.190</td>\n",
       "      <td>Изделия медицинские, в том числе хирургические...</td>\n",
       "      <td>5a35794bbd7c29420b25479364c26c7b</td>\n",
       "      <td>616</td>\n",
       "    </tr>\n",
       "    <tr>\n",
       "      <th>4</th>\n",
       "      <td>Говядина замороженная для детского питания</td>\n",
       "      <td>490.59</td>\n",
       "      <td>Без НДС</td>\n",
       "      <td>Килограмм</td>\n",
       "      <td>NaN</td>\n",
       "      <td>10.11.31.130</td>\n",
       "      <td>Говядина и телятина замороженные для детского ...</td>\n",
       "      <td>91c23daf46d288344828eac627074bf3</td>\n",
       "      <td>643</td>\n",
       "    </tr>\n",
       "  </tbody>\n",
       "</table>\n",
       "</div>"
      ],
      "text/plain": [
       "                                        product_name    price  \\\n",
       "0                              Драм-юнит Cet CET8997  7605.00   \n",
       "1                                       Лук репчатый    48.75   \n",
       "2  Карандаш механический (Страна происхождения : ...     8.00   \n",
       "3  Имплантаты для остеосинтеза варианты исполнени...  5200.00   \n",
       "4         Говядина замороженная для детского питания   490.59   \n",
       "\n",
       "  product_vat_rate product_msr  \\\n",
       "0               0%       Штука   \n",
       "1          Без НДС   Килограмм   \n",
       "2              20%       Штука   \n",
       "3          Без НДС       Штука   \n",
       "4          Без НДС   Килограмм   \n",
       "\n",
       "                             product_characteristics    okpd2_code  \\\n",
       "0                                                NaN  28.23.25.000   \n",
       "1  Дополнительные показатели (характеристики): Ук...  01.13.43.110   \n",
       "2                                                NaN  32.99.12.130   \n",
       "3                                                NaN  32.50.50.190   \n",
       "4                                                NaN  10.11.31.130   \n",
       "\n",
       "                                          okpd2_name  \\\n",
       "0        Части и принадлежности прочих офисных машин   \n",
       "1                                       Лук репчатый   \n",
       "2                             Карандаши механические   \n",
       "3  Изделия медицинские, в том числе хирургические...   \n",
       "4  Говядина и телятина замороженные для детского ...   \n",
       "\n",
       "                                inn country_code  \n",
       "0  6a2325da490021b46bb00834ab4a560a          156  \n",
       "1  c8f328b188e78a1673db8cc2db1b6828          643  \n",
       "2  9d785973706feeff180ee96a247135e6          156  \n",
       "3  5a35794bbd7c29420b25479364c26c7b          616  \n",
       "4  91c23daf46d288344828eac627074bf3          643  "
      ]
     },
     "execution_count": 16,
     "metadata": {},
     "output_type": "execute_result"
    }
   ],
   "source": [
    "contracts.head()"
   ]
  },
  {
   "cell_type": "code",
   "execution_count": 17,
   "id": "a6dd47d1",
   "metadata": {},
   "outputs": [
    {
     "data": {
      "text/html": [
       "<div>\n",
       "<style scoped>\n",
       "    .dataframe tbody tr th:only-of-type {\n",
       "        vertical-align: middle;\n",
       "    }\n",
       "\n",
       "    .dataframe tbody tr th {\n",
       "        vertical-align: top;\n",
       "    }\n",
       "\n",
       "    .dataframe thead th {\n",
       "        text-align: right;\n",
       "    }\n",
       "</style>\n",
       "<table border=\"1\" class=\"dataframe\">\n",
       "  <thead>\n",
       "    <tr style=\"text-align: right;\">\n",
       "      <th></th>\n",
       "      <th>product_name</th>\n",
       "      <th>price</th>\n",
       "      <th>product_vat_rate</th>\n",
       "      <th>product_msr</th>\n",
       "      <th>product_characteristics</th>\n",
       "      <th>okpd2_code</th>\n",
       "      <th>okpd2_name</th>\n",
       "      <th>inn</th>\n",
       "      <th>country_code</th>\n",
       "    </tr>\n",
       "  </thead>\n",
       "  <tbody>\n",
       "    <tr>\n",
       "      <th>0</th>\n",
       "      <td>Натрий двууглекислый</td>\n",
       "      <td>NaN</td>\n",
       "      <td>Без НДС</td>\n",
       "      <td>Тонна метрическая тонна (1000 кг)</td>\n",
       "      <td>Описание: Натрий двууглекислый || Массовая дол...</td>\n",
       "      <td>20.13.43</td>\n",
       "      <td>Карбонаты</td>\n",
       "      <td>22f5fd1c91e58e210ee693fd834b0ffa</td>\n",
       "      <td>643.0</td>\n",
       "    </tr>\n",
       "    <tr>\n",
       "      <th>1</th>\n",
       "      <td>Гидрокарбонат натрия. Пищевая добавка E500(ii)</td>\n",
       "      <td>NaN</td>\n",
       "      <td>Без НДС</td>\n",
       "      <td>Тонна метрическая тонна (1000 кг)</td>\n",
       "      <td>Описание: Гидрокарбонат натрия. Пищевая добавк...</td>\n",
       "      <td>20.13.43.191</td>\n",
       "      <td>Водородкарбонат натрия (бикарбонат натрия)</td>\n",
       "      <td>22f5fd1c91e58e210ee693fd834b0ffa</td>\n",
       "      <td>643.0</td>\n",
       "    </tr>\n",
       "    <tr>\n",
       "      <th>2</th>\n",
       "      <td>маневровый тепловоз ТЭМ18ДМ</td>\n",
       "      <td>NaN</td>\n",
       "      <td>Без НДС</td>\n",
       "      <td>Штука</td>\n",
       "      <td>Описание: маневровый тепловоз ТЭМ18ДМ || Мощно...</td>\n",
       "      <td>30.20.12.120</td>\n",
       "      <td>Тепловозы маневровые и промышленные</td>\n",
       "      <td>21578d9b4a3c742d2a450e89dafe3e54</td>\n",
       "      <td>643.0</td>\n",
       "    </tr>\n",
       "    <tr>\n",
       "      <th>3</th>\n",
       "      <td>Тепловоз магистральный грузовой двухсекционный...</td>\n",
       "      <td>NaN</td>\n",
       "      <td>Без НДС</td>\n",
       "      <td>Секция</td>\n",
       "      <td>Описание: Тепловоз магистральный грузовой двух...</td>\n",
       "      <td>30.20.12.110</td>\n",
       "      <td>Тепловозы магистральные</td>\n",
       "      <td>21578d9b4a3c742d2a450e89dafe3e54</td>\n",
       "      <td>643.0</td>\n",
       "    </tr>\n",
       "    <tr>\n",
       "      <th>4</th>\n",
       "      <td>Универсальный фронтальный мини-погрузчик с бор...</td>\n",
       "      <td>NaN</td>\n",
       "      <td>Без НДС</td>\n",
       "      <td>Штука</td>\n",
       "      <td>Описание: Универсальный фронтальный мини-погру...</td>\n",
       "      <td>28.92.25.000</td>\n",
       "      <td>Погрузчики фронтальные одноковшовые самоходные</td>\n",
       "      <td>23dfc06d1aa3f159711b0833da1310cc</td>\n",
       "      <td>643.0</td>\n",
       "    </tr>\n",
       "  </tbody>\n",
       "</table>\n",
       "</div>"
      ],
      "text/plain": [
       "                                        product_name  price product_vat_rate  \\\n",
       "0                               Натрий двууглекислый    NaN          Без НДС   \n",
       "1     Гидрокарбонат натрия. Пищевая добавка E500(ii)    NaN          Без НДС   \n",
       "2                        маневровый тепловоз ТЭМ18ДМ    NaN          Без НДС   \n",
       "3  Тепловоз магистральный грузовой двухсекционный...    NaN          Без НДС   \n",
       "4  Универсальный фронтальный мини-погрузчик с бор...    NaN          Без НДС   \n",
       "\n",
       "                         product_msr  \\\n",
       "0  Тонна метрическая тонна (1000 кг)   \n",
       "1  Тонна метрическая тонна (1000 кг)   \n",
       "2                              Штука   \n",
       "3                             Секция   \n",
       "4                              Штука   \n",
       "\n",
       "                             product_characteristics    okpd2_code  \\\n",
       "0  Описание: Натрий двууглекислый || Массовая дол...      20.13.43   \n",
       "1  Описание: Гидрокарбонат натрия. Пищевая добавк...  20.13.43.191   \n",
       "2  Описание: маневровый тепловоз ТЭМ18ДМ || Мощно...  30.20.12.120   \n",
       "3  Описание: Тепловоз магистральный грузовой двух...  30.20.12.110   \n",
       "4  Описание: Универсальный фронтальный мини-погру...  28.92.25.000   \n",
       "\n",
       "                                       okpd2_name  \\\n",
       "0                                       Карбонаты   \n",
       "1      Водородкарбонат натрия (бикарбонат натрия)   \n",
       "2             Тепловозы маневровые и промышленные   \n",
       "3                         Тепловозы магистральные   \n",
       "4  Погрузчики фронтальные одноковшовые самоходные   \n",
       "\n",
       "                                inn  country_code  \n",
       "0  22f5fd1c91e58e210ee693fd834b0ffa         643.0  \n",
       "1  22f5fd1c91e58e210ee693fd834b0ffa         643.0  \n",
       "2  21578d9b4a3c742d2a450e89dafe3e54         643.0  \n",
       "3  21578d9b4a3c742d2a450e89dafe3e54         643.0  \n",
       "4  23dfc06d1aa3f159711b0833da1310cc         643.0  "
      ]
     },
     "execution_count": 17,
     "metadata": {},
     "output_type": "execute_result"
    }
   ],
   "source": [
    "sprav.head()"
   ]
  },
  {
   "cell_type": "code",
   "execution_count": 18,
   "id": "5cefd885",
   "metadata": {
    "scrolled": false
   },
   "outputs": [
    {
     "data": {
      "text/html": [
       "<div>\n",
       "<style scoped>\n",
       "    .dataframe tbody tr th:only-of-type {\n",
       "        vertical-align: middle;\n",
       "    }\n",
       "\n",
       "    .dataframe tbody tr th {\n",
       "        vertical-align: top;\n",
       "    }\n",
       "\n",
       "    .dataframe thead th {\n",
       "        text-align: right;\n",
       "    }\n",
       "</style>\n",
       "<table border=\"1\" class=\"dataframe\">\n",
       "  <thead>\n",
       "    <tr style=\"text-align: right;\">\n",
       "      <th></th>\n",
       "      <th>product_name</th>\n",
       "      <th>price</th>\n",
       "      <th>product_vat_rate</th>\n",
       "      <th>product_msr</th>\n",
       "      <th>product_characteristics</th>\n",
       "      <th>okpd2_code</th>\n",
       "      <th>okpd2_name</th>\n",
       "      <th>inn</th>\n",
       "      <th>country_code</th>\n",
       "    </tr>\n",
       "  </thead>\n",
       "  <tbody>\n",
       "    <tr>\n",
       "      <th>0</th>\n",
       "      <td>Мешки для мусора 240 л, черные, ПВД, 100 мкм, ...</td>\n",
       "      <td>24.22</td>\n",
       "      <td>20%</td>\n",
       "      <td>Штука</td>\n",
       "      <td>Объем: 240.0л дм[3*] || Вид материала: ПВД || ...</td>\n",
       "      <td>22.22.1</td>\n",
       "      <td>Изделия пластмассовые упаковочные</td>\n",
       "      <td>8862f4d4ee368febd5fac195c84f8dde</td>\n",
       "      <td>NaN</td>\n",
       "    </tr>\n",
       "    <tr>\n",
       "      <th>1</th>\n",
       "      <td>Степ платформа</td>\n",
       "      <td>4340.98</td>\n",
       "      <td>Без НДС</td>\n",
       "      <td>Штука</td>\n",
       "      <td>Описание: Степ платформа || Виды товаров спорт...</td>\n",
       "      <td>32.30.14.129</td>\n",
       "      <td>Оборудование для занятий физкультурой, гимнаст...</td>\n",
       "      <td>605fc8ce2b603efc77cefa563781105f</td>\n",
       "      <td>156.0</td>\n",
       "    </tr>\n",
       "    <tr>\n",
       "      <th>2</th>\n",
       "      <td>Скобы для степлера</td>\n",
       "      <td>114.00</td>\n",
       "      <td>Без НДС</td>\n",
       "      <td>Штука</td>\n",
       "      <td>Описание: Скобы для степлера || Количество в у...</td>\n",
       "      <td>25.99.23.000</td>\n",
       "      <td>Детали для скоросшивателей или папок, канцеляр...</td>\n",
       "      <td>766fe416835260900f67379de663439c</td>\n",
       "      <td>NaN</td>\n",
       "    </tr>\n",
       "    <tr>\n",
       "      <th>3</th>\n",
       "      <td>Эмаль Vika МЛ-1110 Апельсин Камаз 0,8 кг</td>\n",
       "      <td>709.00</td>\n",
       "      <td>Без НДС</td>\n",
       "      <td>Штука</td>\n",
       "      <td>Тип краски: Однокомпонентная синтетическая эма...</td>\n",
       "      <td>29.32.30.390</td>\n",
       "      <td>Части и принадлежности для автотранспортных ср...</td>\n",
       "      <td>71b52ca820c667fb8cebd3fcf362ac79</td>\n",
       "      <td>643.0</td>\n",
       "    </tr>\n",
       "    <tr>\n",
       "      <th>4</th>\n",
       "      <td>Средство дезинфицирующее Део-бактер 1л</td>\n",
       "      <td>499.00</td>\n",
       "      <td>20%</td>\n",
       "      <td>Флакон</td>\n",
       "      <td>Объем: 1л дм[3*] || Действующие вещества: ЧАС ...</td>\n",
       "      <td>20.20.14.000</td>\n",
       "      <td>Средства дезинфекционные</td>\n",
       "      <td>c2c3bea3f9fe8262cea420f1b6d3772b</td>\n",
       "      <td>NaN</td>\n",
       "    </tr>\n",
       "  </tbody>\n",
       "</table>\n",
       "</div>"
      ],
      "text/plain": [
       "                                        product_name    price  \\\n",
       "0  Мешки для мусора 240 л, черные, ПВД, 100 мкм, ...    24.22   \n",
       "1                                     Степ платформа  4340.98   \n",
       "2                                 Скобы для степлера   114.00   \n",
       "3           Эмаль Vika МЛ-1110 Апельсин Камаз 0,8 кг   709.00   \n",
       "4             Средство дезинфицирующее Део-бактер 1л   499.00   \n",
       "\n",
       "  product_vat_rate product_msr  \\\n",
       "0              20%       Штука   \n",
       "1          Без НДС       Штука   \n",
       "2          Без НДС       Штука   \n",
       "3          Без НДС       Штука   \n",
       "4              20%      Флакон   \n",
       "\n",
       "                             product_characteristics    okpd2_code  \\\n",
       "0  Объем: 240.0л дм[3*] || Вид материала: ПВД || ...       22.22.1   \n",
       "1  Описание: Степ платформа || Виды товаров спорт...  32.30.14.129   \n",
       "2  Описание: Скобы для степлера || Количество в у...  25.99.23.000   \n",
       "3  Тип краски: Однокомпонентная синтетическая эма...  29.32.30.390   \n",
       "4  Объем: 1л дм[3*] || Действующие вещества: ЧАС ...  20.20.14.000   \n",
       "\n",
       "                                          okpd2_name  \\\n",
       "0                  Изделия пластмассовые упаковочные   \n",
       "1  Оборудование для занятий физкультурой, гимнаст...   \n",
       "2  Детали для скоросшивателей или папок, канцеляр...   \n",
       "3  Части и принадлежности для автотранспортных ср...   \n",
       "4                           Средства дезинфекционные   \n",
       "\n",
       "                                inn  country_code  \n",
       "0  8862f4d4ee368febd5fac195c84f8dde           NaN  \n",
       "1  605fc8ce2b603efc77cefa563781105f         156.0  \n",
       "2  766fe416835260900f67379de663439c           NaN  \n",
       "3  71b52ca820c667fb8cebd3fcf362ac79         643.0  \n",
       "4  c2c3bea3f9fe8262cea420f1b6d3772b           NaN  "
      ]
     },
     "execution_count": 18,
     "metadata": {},
     "output_type": "execute_result"
    }
   ],
   "source": [
    "offers.head()"
   ]
  },
  {
   "cell_type": "code",
   "execution_count": 35,
   "id": "4b8a6973",
   "metadata": {},
   "outputs": [
    {
     "data": {
      "text/html": [
       "<div>\n",
       "<style scoped>\n",
       "    .dataframe tbody tr th:only-of-type {\n",
       "        vertical-align: middle;\n",
       "    }\n",
       "\n",
       "    .dataframe tbody tr th {\n",
       "        vertical-align: top;\n",
       "    }\n",
       "\n",
       "    .dataframe thead th {\n",
       "        text-align: right;\n",
       "    }\n",
       "</style>\n",
       "<table border=\"1\" class=\"dataframe\">\n",
       "  <thead>\n",
       "    <tr style=\"text-align: right;\">\n",
       "      <th></th>\n",
       "      <th>Contracts_num_null</th>\n",
       "      <th>Sprav_num_null</th>\n",
       "      <th>Offers_num_null</th>\n",
       "      <th>Null%_contracts</th>\n",
       "      <th>Null%_sprav</th>\n",
       "      <th>Null%_offers</th>\n",
       "    </tr>\n",
       "  </thead>\n",
       "  <tbody>\n",
       "    <tr>\n",
       "      <th>product_name</th>\n",
       "      <td>0</td>\n",
       "      <td>0</td>\n",
       "      <td>0</td>\n",
       "      <td>0.0000</td>\n",
       "      <td>0.000000</td>\n",
       "      <td>0.000000</td>\n",
       "    </tr>\n",
       "    <tr>\n",
       "      <th>price</th>\n",
       "      <td>0</td>\n",
       "      <td>102226</td>\n",
       "      <td>0</td>\n",
       "      <td>0.0000</td>\n",
       "      <td>96.914136</td>\n",
       "      <td>0.000000</td>\n",
       "    </tr>\n",
       "    <tr>\n",
       "      <th>product_vat_rate</th>\n",
       "      <td>0</td>\n",
       "      <td>0</td>\n",
       "      <td>0</td>\n",
       "      <td>0.0000</td>\n",
       "      <td>0.000000</td>\n",
       "      <td>0.000000</td>\n",
       "    </tr>\n",
       "    <tr>\n",
       "      <th>product_msr</th>\n",
       "      <td>0</td>\n",
       "      <td>519</td>\n",
       "      <td>6</td>\n",
       "      <td>0.0000</td>\n",
       "      <td>0.492032</td>\n",
       "      <td>0.002694</td>\n",
       "    </tr>\n",
       "    <tr>\n",
       "      <th>product_characteristics</th>\n",
       "      <td>788912</td>\n",
       "      <td>0</td>\n",
       "      <td>0</td>\n",
       "      <td>78.8912</td>\n",
       "      <td>0.000000</td>\n",
       "      <td>0.000000</td>\n",
       "    </tr>\n",
       "    <tr>\n",
       "      <th>okpd2_code</th>\n",
       "      <td>0</td>\n",
       "      <td>0</td>\n",
       "      <td>0</td>\n",
       "      <td>0.0000</td>\n",
       "      <td>0.000000</td>\n",
       "      <td>0.000000</td>\n",
       "    </tr>\n",
       "    <tr>\n",
       "      <th>okpd2_name</th>\n",
       "      <td>0</td>\n",
       "      <td>0</td>\n",
       "      <td>0</td>\n",
       "      <td>0.0000</td>\n",
       "      <td>0.000000</td>\n",
       "      <td>0.000000</td>\n",
       "    </tr>\n",
       "    <tr>\n",
       "      <th>inn</th>\n",
       "      <td>0</td>\n",
       "      <td>0</td>\n",
       "      <td>0</td>\n",
       "      <td>0.0000</td>\n",
       "      <td>0.000000</td>\n",
       "      <td>0.000000</td>\n",
       "    </tr>\n",
       "    <tr>\n",
       "      <th>country_code</th>\n",
       "      <td>1136</td>\n",
       "      <td>14763</td>\n",
       "      <td>60145</td>\n",
       "      <td>0.1136</td>\n",
       "      <td>13.995886</td>\n",
       "      <td>27.005608</td>\n",
       "    </tr>\n",
       "  </tbody>\n",
       "</table>\n",
       "</div>"
      ],
      "text/plain": [
       "                         Contracts_num_null  Sprav_num_null  Offers_num_null  \\\n",
       "product_name                              0               0                0   \n",
       "price                                     0          102226                0   \n",
       "product_vat_rate                          0               0                0   \n",
       "product_msr                               0             519                6   \n",
       "product_characteristics              788912               0                0   \n",
       "okpd2_code                                0               0                0   \n",
       "okpd2_name                                0               0                0   \n",
       "inn                                       0               0                0   \n",
       "country_code                           1136           14763            60145   \n",
       "\n",
       "                         Null%_contracts  Null%_sprav  Null%_offers  \n",
       "product_name                      0.0000     0.000000      0.000000  \n",
       "price                             0.0000    96.914136      0.000000  \n",
       "product_vat_rate                  0.0000     0.000000      0.000000  \n",
       "product_msr                       0.0000     0.492032      0.002694  \n",
       "product_characteristics          78.8912     0.000000      0.000000  \n",
       "okpd2_code                        0.0000     0.000000      0.000000  \n",
       "okpd2_name                        0.0000     0.000000      0.000000  \n",
       "inn                               0.0000     0.000000      0.000000  \n",
       "country_code                      0.1136    13.995886     27.005608  "
      ]
     },
     "execution_count": 35,
     "metadata": {},
     "output_type": "execute_result"
    }
   ],
   "source": [
    "null_counts = pd.DataFrame({\"Contracts_num_null\": contracts.isnull().sum(), \"Sprav_num_null\": sprav.isnull().sum(), \"Offers_num_null\": offers.isnull().sum()})\n",
    "null_counts[\"Null%_contracts\"] = null_counts['Contracts_num_null'] / contracts.shape[0] * 100\n",
    "null_counts[\"Null%_sprav\"] = null_counts['Sprav_num_null'] / sprav.shape[0] * 100\n",
    "null_counts[\"Null%_offers\"] = null_counts['Offers_num_null'] / offers.shape[0] * 100\n",
    "null_counts"
   ]
  },
  {
   "cell_type": "markdown",
   "id": "1ca11b4d",
   "metadata": {},
   "source": [
    "### Выводы"
   ]
  },
  {
   "cell_type": "markdown",
   "id": "1399b14d",
   "metadata": {},
   "source": [
    "1. Много пропусков описаний в Контрактах\n",
    "2. Почти нет цен в Справочнике"
   ]
  },
  {
   "cell_type": "markdown",
   "id": "fec01cf3",
   "metadata": {},
   "source": [
    "Что делать?\n",
    "Возможно заполнить описание в Контрактах описанием из Справочника"
   ]
  },
  {
   "cell_type": "code",
   "execution_count": 61,
   "id": "52e30baf",
   "metadata": {},
   "outputs": [
    {
     "data": {
      "text/plain": [
       "(495, 9)"
      ]
     },
     "execution_count": 61,
     "metadata": {},
     "output_type": "execute_result"
    }
   ],
   "source": [
    "sprav.loc[sprav.inn.isin(contracts.inn) & sprav.product_name.isin(contracts.product_name)].shape"
   ]
  },
  {
   "cell_type": "markdown",
   "id": "eb272c42",
   "metadata": {},
   "source": [
    "Мало данных -- нет смысла тратить время"
   ]
  },
  {
   "cell_type": "markdown",
   "id": "9eae70d7",
   "metadata": {},
   "source": [
    "## Исследуем price"
   ]
  },
  {
   "cell_type": "code",
   "execution_count": 121,
   "id": "a5cea212",
   "metadata": {
    "scrolled": true
   },
   "outputs": [],
   "source": [
    "df = pd.concat([contracts, offers, sprav])\n",
    "df.reset_index(drop=True, inplace=True)"
   ]
  },
  {
   "cell_type": "code",
   "execution_count": 277,
   "id": "42b9d029",
   "metadata": {
    "scrolled": false
   },
   "outputs": [
    {
     "data": {
      "text/html": [
       "<div>\n",
       "<style scoped>\n",
       "    .dataframe tbody tr th:only-of-type {\n",
       "        vertical-align: middle;\n",
       "    }\n",
       "\n",
       "    .dataframe tbody tr th {\n",
       "        vertical-align: top;\n",
       "    }\n",
       "\n",
       "    .dataframe thead th {\n",
       "        text-align: right;\n",
       "    }\n",
       "</style>\n",
       "<table border=\"1\" class=\"dataframe\">\n",
       "  <thead>\n",
       "    <tr style=\"text-align: right;\">\n",
       "      <th></th>\n",
       "      <th>price</th>\n",
       "      <th>lens</th>\n",
       "    </tr>\n",
       "  </thead>\n",
       "  <tbody>\n",
       "    <tr>\n",
       "      <th>count</th>\n",
       "      <td>1.224894e+06</td>\n",
       "      <td>1.328194e+06</td>\n",
       "    </tr>\n",
       "    <tr>\n",
       "      <th>mean</th>\n",
       "      <td>3.066033e+05</td>\n",
       "      <td>5.543654e+01</td>\n",
       "    </tr>\n",
       "    <tr>\n",
       "      <th>std</th>\n",
       "      <td>1.221253e+08</td>\n",
       "      <td>5.885460e+01</td>\n",
       "    </tr>\n",
       "    <tr>\n",
       "      <th>min</th>\n",
       "      <td>1.000000e-11</td>\n",
       "      <td>1.000000e+00</td>\n",
       "    </tr>\n",
       "    <tr>\n",
       "      <th>25%</th>\n",
       "      <td>1.376625e+02</td>\n",
       "      <td>2.700000e+01</td>\n",
       "    </tr>\n",
       "    <tr>\n",
       "      <th>50%</th>\n",
       "      <td>5.424100e+02</td>\n",
       "      <td>4.400000e+01</td>\n",
       "    </tr>\n",
       "    <tr>\n",
       "      <th>75%</th>\n",
       "      <td>3.133297e+03</td>\n",
       "      <td>6.700000e+01</td>\n",
       "    </tr>\n",
       "    <tr>\n",
       "      <th>max</th>\n",
       "      <td>8.570092e+10</td>\n",
       "      <td>2.000000e+03</td>\n",
       "    </tr>\n",
       "  </tbody>\n",
       "</table>\n",
       "</div>"
      ],
      "text/plain": [
       "              price          lens\n",
       "count  1.224894e+06  1.328194e+06\n",
       "mean   3.066033e+05  5.543654e+01\n",
       "std    1.221253e+08  5.885460e+01\n",
       "min    1.000000e-11  1.000000e+00\n",
       "25%    1.376625e+02  2.700000e+01\n",
       "50%    5.424100e+02  4.400000e+01\n",
       "75%    3.133297e+03  6.700000e+01\n",
       "max    8.570092e+10  2.000000e+03"
      ]
     },
     "execution_count": 277,
     "metadata": {},
     "output_type": "execute_result"
    }
   ],
   "source": [
    "df.describe()"
   ]
  },
  {
   "cell_type": "markdown",
   "id": "0b3f6463",
   "metadata": {},
   "source": [
    "1. Цена 0 -- заменить на NaN\n",
    "2. Max сильно отличается от квартилей -- "
   ]
  },
  {
   "cell_type": "code",
   "execution_count": 123,
   "id": "abd4ae0c",
   "metadata": {},
   "outputs": [
    {
     "data": {
      "text/plain": [
       "322856.13"
      ]
     },
     "execution_count": 123,
     "metadata": {},
     "output_type": "execute_result"
    }
   ],
   "source": [
    "df.price.quantile(0.99)"
   ]
  },
  {
   "cell_type": "code",
   "execution_count": 261,
   "id": "f7344b05",
   "metadata": {
    "scrolled": false
   },
   "outputs": [
    {
     "data": {
      "text/html": [
       "<div>\n",
       "<style scoped>\n",
       "    .dataframe tbody tr th:only-of-type {\n",
       "        vertical-align: middle;\n",
       "    }\n",
       "\n",
       "    .dataframe tbody tr th {\n",
       "        vertical-align: top;\n",
       "    }\n",
       "\n",
       "    .dataframe thead th {\n",
       "        text-align: right;\n",
       "    }\n",
       "</style>\n",
       "<table border=\"1\" class=\"dataframe\">\n",
       "  <thead>\n",
       "    <tr style=\"text-align: right;\">\n",
       "      <th></th>\n",
       "      <th>product_name</th>\n",
       "      <th>price</th>\n",
       "      <th>product_vat_rate</th>\n",
       "      <th>product_msr</th>\n",
       "      <th>product_characteristics</th>\n",
       "      <th>okpd2_code</th>\n",
       "      <th>okpd2_name</th>\n",
       "      <th>inn</th>\n",
       "      <th>country_code</th>\n",
       "      <th>lens</th>\n",
       "    </tr>\n",
       "  </thead>\n",
       "  <tbody>\n",
       "    <tr>\n",
       "      <th>910</th>\n",
       "      <td>Стерилизатор плазменный Stericool с использова...</td>\n",
       "      <td>7947255.33</td>\n",
       "      <td>Без НДС</td>\n",
       "      <td>Штука</td>\n",
       "      <td>NaN</td>\n",
       "      <td>32.50.12.190</td>\n",
       "      <td>Стерилизаторы хирургические или лабораторные п...</td>\n",
       "      <td>4e38c8eb41f782362a1cae5a800afee4</td>\n",
       "      <td>616</td>\n",
       "      <td>101</td>\n",
       "    </tr>\n",
       "    <tr>\n",
       "      <th>1317</th>\n",
       "      <td>Поставка расходного материала для оказания мед...</td>\n",
       "      <td>21859725.85</td>\n",
       "      <td>0%</td>\n",
       "      <td>Комплект</td>\n",
       "      <td>NaN</td>\n",
       "      <td>32.50.13.190</td>\n",
       "      <td>Инструменты и приспособления, применяемые в ме...</td>\n",
       "      <td>e6496e2fe849132ffbc743215deeabdf</td>\n",
       "      <td>840</td>\n",
       "      <td>79</td>\n",
       "    </tr>\n",
       "    <tr>\n",
       "      <th>1539</th>\n",
       "      <td>Инструменты и приборы прочие</td>\n",
       "      <td>8791217.38</td>\n",
       "      <td>20%</td>\n",
       "      <td>Комплект</td>\n",
       "      <td>NaN</td>\n",
       "      <td>26.51.12.190</td>\n",
       "      <td>Инструменты и приборы прочие</td>\n",
       "      <td>0307dca857ba628e5c4a0c107ffd920b</td>\n",
       "      <td>208|156|380|643|392|040|250|276|756|840|203|826</td>\n",
       "      <td>28</td>\n",
       "    </tr>\n",
       "    <tr>\n",
       "      <th>4647</th>\n",
       "      <td>Технологическое оборудование</td>\n",
       "      <td>26837078.63</td>\n",
       "      <td>20%</td>\n",
       "      <td>Условная единица</td>\n",
       "      <td>NaN</td>\n",
       "      <td>41.20.40.900</td>\n",
       "      <td>Работы строительные по возведению нежилых здан...</td>\n",
       "      <td>61e3ece982a286eef0da2062e7621b3f</td>\n",
       "      <td>643</td>\n",
       "      <td>28</td>\n",
       "    </tr>\n",
       "    <tr>\n",
       "      <th>6756</th>\n",
       "      <td>Симулятор взрослого пациента РП.В.ХФ</td>\n",
       "      <td>7700000.00</td>\n",
       "      <td>Без НДС</td>\n",
       "      <td>Штука</td>\n",
       "      <td>NaN</td>\n",
       "      <td>32.99.53.120</td>\n",
       "      <td>Тренажеры для профессионального обучения</td>\n",
       "      <td>0ad5adb7cd54528b663495292fd5f4c3</td>\n",
       "      <td>643</td>\n",
       "      <td>36</td>\n",
       "    </tr>\n",
       "  </tbody>\n",
       "</table>\n",
       "</div>"
      ],
      "text/plain": [
       "                                           product_name        price  \\\n",
       "910   Стерилизатор плазменный Stericool с использова...   7947255.33   \n",
       "1317  Поставка расходного материала для оказания мед...  21859725.85   \n",
       "1539                       Инструменты и приборы прочие   8791217.38   \n",
       "4647                       Технологическое оборудование  26837078.63   \n",
       "6756               Симулятор взрослого пациента РП.В.ХФ   7700000.00   \n",
       "\n",
       "     product_vat_rate       product_msr product_characteristics    okpd2_code  \\\n",
       "910           Без НДС             Штука                     NaN  32.50.12.190   \n",
       "1317               0%          Комплект                     NaN  32.50.13.190   \n",
       "1539              20%          Комплект                     NaN  26.51.12.190   \n",
       "4647              20%  Условная единица                     NaN  41.20.40.900   \n",
       "6756          Без НДС             Штука                     NaN  32.99.53.120   \n",
       "\n",
       "                                             okpd2_name  \\\n",
       "910   Стерилизаторы хирургические или лабораторные п...   \n",
       "1317  Инструменты и приспособления, применяемые в ме...   \n",
       "1539                       Инструменты и приборы прочие   \n",
       "4647  Работы строительные по возведению нежилых здан...   \n",
       "6756           Тренажеры для профессионального обучения   \n",
       "\n",
       "                                   inn  \\\n",
       "910   4e38c8eb41f782362a1cae5a800afee4   \n",
       "1317  e6496e2fe849132ffbc743215deeabdf   \n",
       "1539  0307dca857ba628e5c4a0c107ffd920b   \n",
       "4647  61e3ece982a286eef0da2062e7621b3f   \n",
       "6756  0ad5adb7cd54528b663495292fd5f4c3   \n",
       "\n",
       "                                         country_code  lens  \n",
       "910                                               616   101  \n",
       "1317                                              840    79  \n",
       "1539  208|156|380|643|392|040|250|276|756|840|203|826    28  \n",
       "4647                                              643    28  \n",
       "6756                                              643    36  "
      ]
     },
     "execution_count": 261,
     "metadata": {},
     "output_type": "execute_result"
    }
   ],
   "source": [
    "df[df.price > df.price.quantile(0.999)].head()"
   ]
  },
  {
   "cell_type": "markdown",
   "id": "04bfdd41",
   "metadata": {},
   "source": [
    "--"
   ]
  },
  {
   "cell_type": "markdown",
   "id": "c6843fa2",
   "metadata": {},
   "source": [
    "Очень большая цена -- либо дорогое оборудование, либо дана цена за комплект, т.е. цена_за_штуку * неизвестное_количество (или контракт на поставку)  => было бы хорошо тщательно почистить данные"
   ]
  },
  {
   "cell_type": "markdown",
   "id": "5e9b6eba",
   "metadata": {},
   "source": [
    "--"
   ]
  },
  {
   "cell_type": "code",
   "execution_count": 275,
   "id": "4dcd99cd",
   "metadata": {},
   "outputs": [],
   "source": [
    "df.price.replace(0, np.nan, inplace=True)\n",
    "df.price.replace(1, np.nan, inplace=True)"
   ]
  },
  {
   "cell_type": "code",
   "execution_count": null,
   "id": "0947a0b4",
   "metadata": {},
   "outputs": [],
   "source": [
    "cnt = df.price.count()"
   ]
  },
  {
   "cell_type": "code",
   "execution_count": 199,
   "id": "94a3b660",
   "metadata": {},
   "outputs": [],
   "source": [
    "df.price.quantile(0.95)"
   ]
  },
  {
   "cell_type": "code",
   "execution_count": 276,
   "id": "1f0d000b",
   "metadata": {
    "scrolled": false
   },
   "outputs": [
    {
     "data": {
      "image/png": "[encoded data removed]",
      "text/plain": [
       "<Figure size 720x576 with 1 Axes>"
      ]
     },
     "metadata": {
      "needs_background": "light"
     },
     "output_type": "display_data"
    }
   ],
   "source": [
    "plt.figure(figsize=(10, 8))\n",
    "sns.histplot(data=df, x='price', binrange=(0, df.price.quantile(0.85)), bins = 20)\n",
    "plt.title(\"Histogram of Prices\")\n",
    "plt.xlabel(\"Price (till 0.85 quantile)\")\n",
    "plt.ylabel(\"Count\")\n",
    "plt.show()"
   ]
  },
  {
   "cell_type": "markdown",
   "id": "19c0ab59",
   "metadata": {},
   "source": [
    "### Цены для конкретных товаров"
   ]
  },
  {
   "cell_type": "code",
   "execution_count": 265,
   "id": "eab26176",
   "metadata": {
    "scrolled": false
   },
   "outputs": [],
   "source": [
    "onion = df[df['product_name'].str.contains('Лук') == True]"
   ]
  },
  {
   "cell_type": "code",
   "execution_count": 268,
   "id": "6a7dd48e",
   "metadata": {},
   "outputs": [
    {
     "data": {
      "text/plain": [
       "<AxesSubplot:xlabel='price', ylabel='Count'>"
      ]
     },
     "execution_count": 268,
     "metadata": {},
     "output_type": "execute_result"
    },
    {
     "data": {
      "image/png": "[encoded data removed]",
      "text/plain": [
       "<Figure size 432x288 with 1 Axes>"
      ]
     },
     "metadata": {
      "needs_background": "light"
     },
     "output_type": "display_data"
    }
   ],
   "source": [
    "sns.histplot(x=onion['price'], binrange=(0, onion.price.quantile(0.95)), bins = 20)"
   ]
  },
  {
   "cell_type": "code",
   "execution_count": 270,
   "id": "b2e34c40",
   "metadata": {},
   "outputs": [],
   "source": [
    "gas_analyzer = df[df['product_name'].str.contains(r'.азоанализатор') == True]"
   ]
  },
  {
   "cell_type": "code",
   "execution_count": 272,
   "id": "86aee609",
   "metadata": {},
   "outputs": [
    {
     "data": {
      "text/plain": [
       "<AxesSubplot:xlabel='price', ylabel='Count'>"
      ]
     },
     "execution_count": 272,
     "metadata": {},
     "output_type": "execute_result"
    },
    {
     "data": {
      "image/png": "[encoded data removed]",
      "text/plain": [
       "<Figure size 432x288 with 1 Axes>"
      ]
     },
     "metadata": {
      "needs_background": "light"
     },
     "output_type": "display_data"
    }
   ],
   "source": [
    "sns.histplot(x=gas_analyzer['price'], binrange=(0, gas_analyzer.price.quantile(0.95)), bins = 20)"
   ]
  },
  {
   "cell_type": "code",
   "execution_count": null,
   "id": "64f40984",
   "metadata": {},
   "outputs": [],
   "source": []
  },
  {
   "cell_type": "code",
   "execution_count": null,
   "id": "2f3a6bd7",
   "metadata": {},
   "outputs": [],
   "source": []
  },
  {
   "cell_type": "code",
   "execution_count": null,
   "id": "99600dc9",
   "metadata": {},
   "outputs": [],
   "source": []
  },
  {
   "cell_type": "markdown",
   "id": "dc1a1f9e",
   "metadata": {},
   "source": [
    "## Исследуем product_name"
   ]
  },
  {
   "cell_type": "code",
   "execution_count": 125,
   "id": "a4a5f911",
   "metadata": {},
   "outputs": [],
   "source": [
    "df['lens'] = df['product_name'].apply(lambda x: len(x))"
   ]
  },
  {
   "cell_type": "code",
   "execution_count": 126,
   "id": "7285485b",
   "metadata": {},
   "outputs": [
    {
     "data": {
      "text/plain": [
       "count    1.328194e+06\n",
       "mean     5.543654e+01\n",
       "std      5.885460e+01\n",
       "min      1.000000e+00\n",
       "25%      2.700000e+01\n",
       "50%      4.400000e+01\n",
       "75%      6.700000e+01\n",
       "max      2.000000e+03\n",
       "Name: lens, dtype: float64"
      ]
     },
     "execution_count": 126,
     "metadata": {},
     "output_type": "execute_result"
    }
   ],
   "source": [
    "df.lens.describe()"
   ]
  },
  {
   "cell_type": "code",
   "execution_count": 160,
   "id": "6ed93ed1",
   "metadata": {},
   "outputs": [
    {
     "data": {
      "image/png": "[encoded data removed]",
      "text/plain": [
       "<Figure size 720x576 with 1 Axes>"
      ]
     },
     "metadata": {
      "needs_background": "light"
     },
     "output_type": "display_data"
    }
   ],
   "source": [
    "plt.figure(figsize=(10, 8))\n",
    "sns.distplot(lens)\n",
    "plt.title(\"Histogram of Name Lengths\")\n",
    "plt.xlabel(\"Number of Characters\")\n",
    "plt.ylabel(\"Density\")\n",
    "plt.show()"
   ]
  },
  {
   "cell_type": "code",
   "execution_count": 161,
   "id": "25695417",
   "metadata": {
    "scrolled": true
   },
   "outputs": [
    {
     "data": {
      "text/html": [
       "<div>\n",
       "<style scoped>\n",
       "    .dataframe tbody tr th:only-of-type {\n",
       "        vertical-align: middle;\n",
       "    }\n",
       "\n",
       "    .dataframe tbody tr th {\n",
       "        vertical-align: top;\n",
       "    }\n",
       "\n",
       "    .dataframe thead th {\n",
       "        text-align: right;\n",
       "    }\n",
       "</style>\n",
       "<table border=\"1\" class=\"dataframe\">\n",
       "  <thead>\n",
       "    <tr style=\"text-align: right;\">\n",
       "      <th></th>\n",
       "      <th>product_name</th>\n",
       "      <th>price</th>\n",
       "      <th>product_vat_rate</th>\n",
       "      <th>product_msr</th>\n",
       "      <th>product_characteristics</th>\n",
       "      <th>okpd2_code</th>\n",
       "      <th>okpd2_name</th>\n",
       "      <th>inn</th>\n",
       "      <th>country_code</th>\n",
       "      <th>lens</th>\n",
       "    </tr>\n",
       "  </thead>\n",
       "  <tbody>\n",
       "    <tr>\n",
       "      <th>254980</th>\n",
       "      <td>м</td>\n",
       "      <td>772.75</td>\n",
       "      <td>10%</td>\n",
       "      <td>Штука</td>\n",
       "      <td>NaN</td>\n",
       "      <td>58.11.11.000</td>\n",
       "      <td>Учебники печатные общеобразовательного назначения</td>\n",
       "      <td>7403de10a7d9337677da1cfdab364bbb</td>\n",
       "      <td>643</td>\n",
       "      <td>1</td>\n",
       "    </tr>\n",
       "    <tr>\n",
       "      <th>478025</th>\n",
       "      <td>р</td>\n",
       "      <td>147.77</td>\n",
       "      <td>Без НДС</td>\n",
       "      <td>Штука</td>\n",
       "      <td>NaN</td>\n",
       "      <td>29.32.30.390</td>\n",
       "      <td>Части и принадлежности для автотранспортных ср...</td>\n",
       "      <td>2abab90eb911b70e53a05ba7a526e235</td>\n",
       "      <td>643</td>\n",
       "      <td>1</td>\n",
       "    </tr>\n",
       "    <tr>\n",
       "      <th>658048</th>\n",
       "      <td>С</td>\n",
       "      <td>15.00</td>\n",
       "      <td>Без НДС</td>\n",
       "      <td>Пара (2 шт.)</td>\n",
       "      <td>NaN</td>\n",
       "      <td>22.19.60.119</td>\n",
       "      <td>Перчатки резиновые прочие</td>\n",
       "      <td>7462876f8eab181ee6d18a191ae659f4</td>\n",
       "      <td>458</td>\n",
       "      <td>1</td>\n",
       "    </tr>\n",
       "  </tbody>\n",
       "</table>\n",
       "</div>"
      ],
      "text/plain": [
       "       product_name   price product_vat_rate   product_msr  \\\n",
       "254980            м  772.75              10%         Штука   \n",
       "478025            р  147.77          Без НДС         Штука   \n",
       "658048            С   15.00          Без НДС  Пара (2 шт.)   \n",
       "\n",
       "       product_characteristics    okpd2_code  \\\n",
       "254980                     NaN  58.11.11.000   \n",
       "478025                     NaN  29.32.30.390   \n",
       "658048                     NaN  22.19.60.119   \n",
       "\n",
       "                                               okpd2_name  \\\n",
       "254980  Учебники печатные общеобразовательного назначения   \n",
       "478025  Части и принадлежности для автотранспортных ср...   \n",
       "658048                          Перчатки резиновые прочие   \n",
       "\n",
       "                                     inn country_code  lens  \n",
       "254980  7403de10a7d9337677da1cfdab364bbb          643     1  \n",
       "478025  2abab90eb911b70e53a05ba7a526e235          643     1  \n",
       "658048  7462876f8eab181ee6d18a191ae659f4          458     1  "
      ]
     },
     "execution_count": 161,
     "metadata": {},
     "output_type": "execute_result"
    }
   ],
   "source": [
    "df[df.lens == 1]"
   ]
  },
  {
   "cell_type": "markdown",
   "id": "f2c8fdaf",
   "metadata": {},
   "source": [
    "bad"
   ]
  },
  {
   "cell_type": "code",
   "execution_count": 131,
   "id": "92f6ce82",
   "metadata": {
    "scrolled": false
   },
   "outputs": [
    {
     "data": {
      "text/html": [
       "<div>\n",
       "<style scoped>\n",
       "    .dataframe tbody tr th:only-of-type {\n",
       "        vertical-align: middle;\n",
       "    }\n",
       "\n",
       "    .dataframe tbody tr th {\n",
       "        vertical-align: top;\n",
       "    }\n",
       "\n",
       "    .dataframe thead th {\n",
       "        text-align: right;\n",
       "    }\n",
       "</style>\n",
       "<table border=\"1\" class=\"dataframe\">\n",
       "  <thead>\n",
       "    <tr style=\"text-align: right;\">\n",
       "      <th></th>\n",
       "      <th>product_name</th>\n",
       "      <th>price</th>\n",
       "      <th>product_vat_rate</th>\n",
       "      <th>product_msr</th>\n",
       "      <th>product_characteristics</th>\n",
       "      <th>okpd2_code</th>\n",
       "      <th>okpd2_name</th>\n",
       "      <th>inn</th>\n",
       "      <th>country_code</th>\n",
       "      <th>lens</th>\n",
       "    </tr>\n",
       "  </thead>\n",
       "  <tbody>\n",
       "    <tr>\n",
       "      <th>172426</th>\n",
       "      <td>Стент мочеточниковый полимерный. Номинальный д...</td>\n",
       "      <td>4900.0</td>\n",
       "      <td>Без НДС</td>\n",
       "      <td>Штука</td>\n",
       "      <td>NaN</td>\n",
       "      <td>32.50.22.199</td>\n",
       "      <td>Протезы органов человека прочие, не включенные...</td>\n",
       "      <td>7b587491da351f3b90f5cf95b9bac1d9</td>\n",
       "      <td>156|484|276|372|756|188|850</td>\n",
       "      <td>2000</td>\n",
       "    </tr>\n",
       "  </tbody>\n",
       "</table>\n",
       "</div>"
      ],
      "text/plain": [
       "                                             product_name   price  \\\n",
       "172426  Стент мочеточниковый полимерный. Номинальный д...  4900.0   \n",
       "\n",
       "       product_vat_rate product_msr product_characteristics    okpd2_code  \\\n",
       "172426          Без НДС       Штука                     NaN  32.50.22.199   \n",
       "\n",
       "                                               okpd2_name  \\\n",
       "172426  Протезы органов человека прочие, не включенные...   \n",
       "\n",
       "                                     inn                 country_code  lens  \n",
       "172426  7b587491da351f3b90f5cf95b9bac1d9  156|484|276|372|756|188|850  2000  "
      ]
     },
     "execution_count": 131,
     "metadata": {},
     "output_type": "execute_result"
    }
   ],
   "source": [
    "df[df.lens == df.lens.max()].head(1)"
   ]
  },
  {
   "cell_type": "code",
   "execution_count": 134,
   "id": "805e9c55",
   "metadata": {},
   "outputs": [
    {
     "data": {
      "text/plain": [
       "'Стент мочеточниковый полимерный. Номинальный диаметр стента:  2 (мм), Общая длина стента: 260 (мм). Стенты мочеточниковые Percuflex, Percuflex Plus, Contour, Contour VL с принадлежностями  Пр: (Германия, Швейцария, Китай, США, Ирландия, Мексика, Коста-Рика) (Страна происхождения : Германия, Швейцария, Китай, США, Ирландия, Мексика, Коста-Рика  Продолжение : Наименование, функциональные, качественные характеристики товара : :  2 (мм), Общая длина стента: 260 (мм). Стенты мочеточниковые Percuflex, Percuflex Plus, Contour, Contour VL с принадлежностями  Наименование, функциональные, качественные характеристики товара : Конструкция: с петлей (петлями). МРТ совместимость: да. Номинальный диаметр стента:  2 (мм), Общая длина стента: 260 (мм). Покрытие: гидрофильное. Дополнительные характеристики:  Стерильный. Одноразовый (обусловлено клинической необходимостью). Максимальный срок имплантации стента в тело пациента 365 дней (Требуется для уменьшения количества вмешательств с целью замены стента).  Материал стента становится мягче при нагревании до температуры тела пациента (Требуется для придания стенту анатомической формы).  Конструкция стента тонкостенная, низкопрофильная (Требуется для увеличения дренирующей способности стента по сравнению со стандартным полиуретановым стентом). Дистальный кончик стента конусообразный (Требуется для облегчения введения в мочеточник и снижения травмоопасности). Наличие визуального проксимального маркера и визуальной разметки через каждые 5 см по всей длине стента (Требуется для контроля позиционирования во время введения стента). Материал стента биосовместимый (Требуется для обеспечения совместимости материала стента с тканями организма). Сниженная цитотоксичность и цитодиструкция по сравнению со стандартным модифицированным полиуератном (Требуется для предупреждения осложенений). Перфорации по всей длине стента, спирально расположенные (Требуется для улучшения дренажных свойств стента). В комплекте нить для извлечения и устройство дл...'"
      ]
     },
     "execution_count": 134,
     "metadata": {},
     "output_type": "execute_result"
    }
   ],
   "source": [
    "df[df.lens == df.lens.max()]['product_name'][172426]"
   ]
  },
  {
   "cell_type": "markdown",
   "id": "18992b32",
   "metadata": {},
   "source": [
    "bad x2"
   ]
  },
  {
   "cell_type": "markdown",
   "id": "9948454d",
   "metadata": {},
   "source": [
    "Можно поместить в описание"
   ]
  },
  {
   "cell_type": "code",
   "execution_count": null,
   "id": "2f76d954",
   "metadata": {},
   "outputs": [],
   "source": []
  },
  {
   "cell_type": "code",
   "execution_count": null,
   "id": "98dbf852",
   "metadata": {},
   "outputs": [],
   "source": []
  },
  {
   "cell_type": "markdown",
   "id": "dfd2004e",
   "metadata": {},
   "source": [
    "## Исследуем product_msr"
   ]
  },
  {
   "cell_type": "code",
   "execution_count": 136,
   "id": "568f1f90",
   "metadata": {},
   "outputs": [
    {
     "data": {
      "text/plain": [
       "Штука                                             994166\n",
       "Килограмм                                          90892\n",
       "Упаковка                                           61475\n",
       "Набор                                              43050\n",
       "Литр кубический дециметр                           28420\n",
       "                                                   ...  \n",
       "Тысяча флаконов                                        1\n",
       "Процент                                                1\n",
       "Международная единица биологической активности         1\n",
       "Кубический ярд (0,764555 м3)                           1\n",
       "Тысяча вагоно (машино)-часов                           1\n",
       "Name: product_msr, Length: 171, dtype: int64"
      ]
     },
     "execution_count": 136,
     "metadata": {},
     "output_type": "execute_result"
    }
   ],
   "source": [
    "df.product_msr.value_counts()"
   ]
  },
  {
   "cell_type": "markdown",
   "id": "a854d71c",
   "metadata": {},
   "source": [
    "Тысяча флаконов..."
   ]
  },
  {
   "cell_type": "code",
   "execution_count": 273,
   "id": "a9c3f456",
   "metadata": {},
   "outputs": [
    {
     "data": {
      "image/png": "[encoded data removed]",
      "text/plain": [
       "<Figure size 720x576 with 1 Axes>"
      ]
     },
     "metadata": {
      "needs_background": "light"
     },
     "output_type": "display_data"
    }
   ],
   "source": [
    "plt.figure(figsize=(10, 8))\n",
    "msr = pd.DataFrame({\"Count\": df.product_msr.value_counts()})\n",
    "sns.barplot(y=msr[0:15].index, x=msr[0:15][\"Count\"], orient='h')\n",
    "plt.title(\"Measures\")\n",
    "plt.show()"
   ]
  },
  {
   "cell_type": "markdown",
   "id": "25f1e811",
   "metadata": {},
   "source": []
  },
  {
   "cell_type": "markdown",
   "id": "6efce702",
   "metadata": {},
   "source": []
  },
  {
   "cell_type": "markdown",
   "id": "6bb55293",
   "metadata": {},
   "source": [
    "## okdp2_code"
   ]
  },
  {
   "cell_type": "code",
   "execution_count": 157,
   "id": "5d49f56a",
   "metadata": {},
   "outputs": [
    {
     "data": {
      "image/png": "[encoded data removed]",
      "text/plain": [
       "<Figure size 720x576 with 1 Axes>"
      ]
     },
     "metadata": {
      "needs_background": "light"
     },
     "output_type": "display_data"
    }
   ],
   "source": [
    "plt.figure(figsize=(10, 8))\n",
    "codes = pd.DataFrame({\"Count\": df[\"okpd2_code\"].value_counts()})\n",
    "sns.barplot(y=codes[0:20].index, x=codes[0:20][\"Count\"], orient='h')\n",
    "plt.title(\"OKPD2 codes count\")\n",
    "plt.show()"
   ]
  },
  {
   "cell_type": "code",
   "execution_count": 274,
   "id": "e5c255d4",
   "metadata": {},
   "outputs": [
    {
     "data": {
      "text/plain": [
       "29.32.30.390    166090\n",
       "45.20.11.519     75611\n",
       "58.11.11.000     75348\n",
       "58.11.19.000     34276\n",
       "32.50.13.190     30540\n",
       "                 ...  \n",
       "25.99.12.120         1\n",
       "20.13.11.112         1\n",
       "13.10.71.113         1\n",
       "26.51.33.123         1\n",
       "10.83.12.130         1\n",
       "Name: okpd2_code, Length: 6237, dtype: int64"
      ]
     },
     "execution_count": 274,
     "metadata": {},
     "output_type": "execute_result"
    }
   ],
   "source": [
    "df.okpd2_code.value_counts()"
   ]
  },
  {
   "cell_type": "markdown",
   "id": "10924a85",
   "metadata": {},
   "source": [
    "Расшифровка 29.32.30.390: Части и принадлежности для автотранспортных средств прочие, не включенные в другие группировки"
   ]
  },
  {
   "cell_type": "markdown",
   "id": "9942171b",
   "metadata": {},
   "source": [
    "Очень много ТРУ входит в один код, работать с ОКПД для поиска будет затруднительно (не нужно)"
   ]
  },
  {
   "cell_type": "code",
   "execution_count": null,
   "id": "d6172ae9",
   "metadata": {},
   "outputs": [],
   "source": [
    "okpd_lens = df['okpd2_code'].apply(lambda x: len(x))"
   ]
  },
  {
   "cell_type": "code",
   "execution_count": null,
   "id": "6974ee63",
   "metadata": {},
   "outputs": [],
   "source": []
  },
  {
   "cell_type": "code",
   "execution_count": null,
   "id": "3b9a2e98",
   "metadata": {},
   "outputs": [],
   "source": []
  },
  {
   "cell_type": "markdown",
   "id": "77bda9f7",
   "metadata": {},
   "source": [
    "## country_code "
   ]
  },
  {
   "cell_type": "code",
   "execution_count": 141,
   "id": "5ad37314",
   "metadata": {
    "scrolled": true
   },
   "outputs": [
    {
     "data": {
      "text/plain": [
       "643                                    758648\n",
       "643.0                                  199656\n",
       "156                                     71082\n",
       "276                                     28686\n",
       "156.0                                   28140\n",
       "                                        ...  \n",
       "498|643|792                                 1\n",
       "392|616|756                                 1\n",
       "152|156|643|688|792|032|620|031|710         1\n",
       "156|643|112|528|840                         1\n",
       "840|372|458                                 1\n",
       "Name: country_code, Length: 3560, dtype: int64"
      ]
     },
     "execution_count": 141,
     "metadata": {},
     "output_type": "execute_result"
    }
   ],
   "source": [
    "df.country_code.value_counts()"
   ]
  },
  {
   "cell_type": "markdown",
   "id": "e22ca292",
   "metadata": {},
   "source": [
    "Несколько стран\n",
    "\n",
    "Разные форматы"
   ]
  },
  {
   "cell_type": "code",
   "execution_count": 142,
   "id": "d9416b3a",
   "metadata": {},
   "outputs": [
    {
     "data": {
      "text/html": [
       "<div>\n",
       "<style scoped>\n",
       "    .dataframe tbody tr th:only-of-type {\n",
       "        vertical-align: middle;\n",
       "    }\n",
       "\n",
       "    .dataframe tbody tr th {\n",
       "        vertical-align: top;\n",
       "    }\n",
       "\n",
       "    .dataframe thead th {\n",
       "        text-align: right;\n",
       "    }\n",
       "</style>\n",
       "<table border=\"1\" class=\"dataframe\">\n",
       "  <thead>\n",
       "    <tr style=\"text-align: right;\">\n",
       "      <th></th>\n",
       "      <th>product_name</th>\n",
       "      <th>price</th>\n",
       "      <th>product_vat_rate</th>\n",
       "      <th>product_msr</th>\n",
       "      <th>product_characteristics</th>\n",
       "      <th>okpd2_code</th>\n",
       "      <th>okpd2_name</th>\n",
       "      <th>inn</th>\n",
       "      <th>country_code</th>\n",
       "      <th>lens</th>\n",
       "    </tr>\n",
       "  </thead>\n",
       "  <tbody>\n",
       "    <tr>\n",
       "      <th>434747</th>\n",
       "      <td>Груши</td>\n",
       "      <td>223.33</td>\n",
       "      <td>Без НДС</td>\n",
       "      <td>Килограмм</td>\n",
       "      <td>Вид груш по сроку созревания: Раннего срока со...</td>\n",
       "      <td>01.24.21.000</td>\n",
       "      <td>Груши</td>\n",
       "      <td>2803ca74b64fc38a3e6c68303a101cb8</td>\n",
       "      <td>152|156|643|688|792|032|620|031|710</td>\n",
       "      <td>5</td>\n",
       "    </tr>\n",
       "  </tbody>\n",
       "</table>\n",
       "</div>"
      ],
      "text/plain": [
       "       product_name   price product_vat_rate product_msr  \\\n",
       "434747        Груши  223.33          Без НДС   Килограмм   \n",
       "\n",
       "                                  product_characteristics    okpd2_code  \\\n",
       "434747  Вид груш по сроку созревания: Раннего срока со...  01.24.21.000   \n",
       "\n",
       "       okpd2_name                               inn  \\\n",
       "434747      Груши  2803ca74b64fc38a3e6c68303a101cb8   \n",
       "\n",
       "                               country_code  lens  \n",
       "434747  152|156|643|688|792|032|620|031|710     5  "
      ]
     },
     "execution_count": 142,
     "metadata": {},
     "output_type": "execute_result"
    }
   ],
   "source": [
    "df[df['country_code'] == '152|156|643|688|792|032|620|031|710']"
   ]
  },
  {
   "cell_type": "code",
   "execution_count": 164,
   "id": "13fd95a4",
   "metadata": {},
   "outputs": [
    {
     "data": {
      "image/png": "[encoded data removed]",
      "text/plain": [
       "<Figure size 720x576 with 1 Axes>"
      ]
     },
     "metadata": {
      "needs_background": "light"
     },
     "output_type": "display_data"
    }
   ],
   "source": [
    "plt.figure(figsize=(10, 8))\n",
    "ccodes = pd.DataFrame({\"Count\": df.country_code.value_counts()})\n",
    "sns.barplot(y=ccodes[0:15].index, x=ccodes[0:15][\"Count\"], orient='h')\n",
    "plt.title(\"Country codes count\")\n",
    "plt.show()"
   ]
  },
  {
   "cell_type": "code",
   "execution_count": null,
   "id": "9300fbe5",
   "metadata": {},
   "outputs": [],
   "source": []
  },
  {
   "cell_type": "code",
   "execution_count": null,
   "id": "185c9282",
   "metadata": {},
   "outputs": [],
   "source": []
  },
  {
   "cell_type": "code",
   "execution_count": 286,
   "id": "0e6212a5",
   "metadata": {},
   "outputs": [
    {
     "data": {
      "text/html": [
       "<div>\n",
       "<style scoped>\n",
       "    .dataframe tbody tr th:only-of-type {\n",
       "        vertical-align: middle;\n",
       "    }\n",
       "\n",
       "    .dataframe tbody tr th {\n",
       "        vertical-align: top;\n",
       "    }\n",
       "\n",
       "    .dataframe thead th {\n",
       "        text-align: right;\n",
       "    }\n",
       "</style>\n",
       "<table border=\"1\" class=\"dataframe\">\n",
       "  <thead>\n",
       "    <tr style=\"text-align: right;\">\n",
       "      <th></th>\n",
       "      <th>product_name</th>\n",
       "      <th>price</th>\n",
       "      <th>product_vat_rate</th>\n",
       "      <th>product_msr</th>\n",
       "      <th>product_characteristics</th>\n",
       "      <th>okpd2_code</th>\n",
       "      <th>okpd2_name</th>\n",
       "      <th>inn</th>\n",
       "      <th>country_code</th>\n",
       "      <th>lens</th>\n",
       "    </tr>\n",
       "  </thead>\n",
       "  <tbody>\n",
       "    <tr>\n",
       "      <th>14842</th>\n",
       "      <td>Якубович Н.В. Ил-18 и его модификации. Авиалай...</td>\n",
       "      <td>1188.00</td>\n",
       "      <td>10%</td>\n",
       "      <td>Штука</td>\n",
       "      <td>NaN</td>\n",
       "      <td>58.11.12.000</td>\n",
       "      <td>Книги печатные профессиональные, технические и...</td>\n",
       "      <td>48ebe6bab8fa4981f87d10a7a11c6015</td>\n",
       "      <td>643</td>\n",
       "      <td>164</td>\n",
       "    </tr>\n",
       "    <tr>\n",
       "      <th>27664</th>\n",
       "      <td>вертолёты военные, самолет-истребитель</td>\n",
       "      <td>640.00</td>\n",
       "      <td>Без НДС</td>\n",
       "      <td>Штука</td>\n",
       "      <td>NaN</td>\n",
       "      <td>32.40.39.191</td>\n",
       "      <td>Игрушки пластмассовые транспортные, технически...</td>\n",
       "      <td>1bba9aa82f6272cf266575462abde922</td>\n",
       "      <td>112</td>\n",
       "      <td>38</td>\n",
       "    </tr>\n",
       "    <tr>\n",
       "      <th>109281</th>\n",
       "      <td>Самые известные самолеты мира, Мерников А.Г.</td>\n",
       "      <td>953.70</td>\n",
       "      <td>10%</td>\n",
       "      <td>Штука</td>\n",
       "      <td>NaN</td>\n",
       "      <td>58.11.12.000</td>\n",
       "      <td>Книги печатные профессиональные, технические и...</td>\n",
       "      <td>dbaf5fad2b91c802366234da30073c47</td>\n",
       "      <td>643</td>\n",
       "      <td>44</td>\n",
       "    </tr>\n",
       "    <tr>\n",
       "      <th>118116</th>\n",
       "      <td>Крапивин В.П. Ковер-самолет</td>\n",
       "      <td>844.40</td>\n",
       "      <td>10%</td>\n",
       "      <td>Штука</td>\n",
       "      <td>NaN</td>\n",
       "      <td>58.11.13.000</td>\n",
       "      <td>Книги печатные для детей</td>\n",
       "      <td>41ecb902d89630764ae18827686c36ce</td>\n",
       "      <td>643</td>\n",
       "      <td>27</td>\n",
       "    </tr>\n",
       "    <tr>\n",
       "      <th>157238</th>\n",
       "      <td>Русские самолеты Первой мировой: Крылья Россий...</td>\n",
       "      <td>1534.28</td>\n",
       "      <td>10%</td>\n",
       "      <td>Штука</td>\n",
       "      <td>NaN</td>\n",
       "      <td>58.11.12.000</td>\n",
       "      <td>Книги печатные профессиональные, технические и...</td>\n",
       "      <td>48ebe6bab8fa4981f87d10a7a11c6015</td>\n",
       "      <td>643</td>\n",
       "      <td>58</td>\n",
       "    </tr>\n",
       "    <tr>\n",
       "      <th>340089</th>\n",
       "      <td>поставка авиационно-технического имущества (ши...</td>\n",
       "      <td>75562.59</td>\n",
       "      <td>20%</td>\n",
       "      <td>Штука</td>\n",
       "      <td>NaN</td>\n",
       "      <td>30.30.50.110</td>\n",
       "      <td>Комплектующие (запасные части) летательных апп...</td>\n",
       "      <td>a44ad47c1033078afade69bf9ae8ecde</td>\n",
       "      <td>643</td>\n",
       "      <td>101</td>\n",
       "    </tr>\n",
       "    <tr>\n",
       "      <th>343705</th>\n",
       "      <td>Пропавший самолет // Блайтон Э.</td>\n",
       "      <td>244.77</td>\n",
       "      <td>10%</td>\n",
       "      <td>Штука</td>\n",
       "      <td>NaN</td>\n",
       "      <td>58.11.13.000</td>\n",
       "      <td>Книги печатные для детей</td>\n",
       "      <td>4387c1e490667cf6958286f9819677ff</td>\n",
       "      <td>643</td>\n",
       "      <td>31</td>\n",
       "    </tr>\n",
       "    <tr>\n",
       "      <th>413764</th>\n",
       "      <td>Washing (Средство для мойки деталей самолетов)</td>\n",
       "      <td>14401.80</td>\n",
       "      <td>20%</td>\n",
       "      <td>Штука</td>\n",
       "      <td>NaN</td>\n",
       "      <td>30.30.50.110</td>\n",
       "      <td>Комплектующие (запасные части) летательных апп...</td>\n",
       "      <td>4cca31fa316965eaf93fc4d3a28502d4</td>\n",
       "      <td>250|792|276|056|156|376|398|498|356|512|756|61...</td>\n",
       "      <td>46</td>\n",
       "    </tr>\n",
       "    <tr>\n",
       "      <th>493746</th>\n",
       "      <td>Четыре самолета</td>\n",
       "      <td>46.56</td>\n",
       "      <td>10%</td>\n",
       "      <td>Штука</td>\n",
       "      <td>NaN</td>\n",
       "      <td>58.11.19.000</td>\n",
       "      <td>Книги, брошюры, листовки печатные прочие и под...</td>\n",
       "      <td>48ebe6bab8fa4981f87d10a7a11c6015</td>\n",
       "      <td>643</td>\n",
       "      <td>15</td>\n",
       "    </tr>\n",
       "    <tr>\n",
       "      <th>640998</th>\n",
       "      <td>Кронштейн в сборе самолет крепления г/ц подъем...</td>\n",
       "      <td>145051.00</td>\n",
       "      <td>20%</td>\n",
       "      <td>Штука</td>\n",
       "      <td>NaN</td>\n",
       "      <td>29.32.30.390</td>\n",
       "      <td>Части и принадлежности для автотранспортных ср...</td>\n",
       "      <td>07c36f98c2c437f0f15cfd49cac00f29</td>\n",
       "      <td>643</td>\n",
       "      <td>76</td>\n",
       "    </tr>\n",
       "    <tr>\n",
       "      <th>705844</th>\n",
       "      <td>Ил-18 и его модификации. Авиалайнер, разведчик...</td>\n",
       "      <td>1229.80</td>\n",
       "      <td>10%</td>\n",
       "      <td>Штука</td>\n",
       "      <td>NaN</td>\n",
       "      <td>58.11.19.000</td>\n",
       "      <td>Книги, брошюры, листовки печатные прочие и под...</td>\n",
       "      <td>48ebe6bab8fa4981f87d10a7a11c6015</td>\n",
       "      <td>643</td>\n",
       "      <td>108</td>\n",
       "    </tr>\n",
       "    <tr>\n",
       "      <th>801780</th>\n",
       "      <td>Насосная станция НС-14 самолета Ан-74</td>\n",
       "      <td>4164528.05</td>\n",
       "      <td>20%</td>\n",
       "      <td>Штука</td>\n",
       "      <td>NaN</td>\n",
       "      <td>30.30.50.110</td>\n",
       "      <td>Комплектующие (запасные части) летательных апп...</td>\n",
       "      <td>5a61ed9094937cd965c893de073a3dbb</td>\n",
       "      <td>643</td>\n",
       "      <td>37</td>\n",
       "    </tr>\n",
       "    <tr>\n",
       "      <th>858132</th>\n",
       "      <td>Мерников, А.Г., Самые известные самолеты мира ...</td>\n",
       "      <td>1062.00</td>\n",
       "      <td>Без НДС</td>\n",
       "      <td>Штука</td>\n",
       "      <td>NaN</td>\n",
       "      <td>58.11.12.000</td>\n",
       "      <td>Книги печатные профессиональные, технические и...</td>\n",
       "      <td>60fbc053c7aa287289ec6ca1b38e7ef0</td>\n",
       "      <td>643</td>\n",
       "      <td>166</td>\n",
       "    </tr>\n",
       "    <tr>\n",
       "      <th>905533</th>\n",
       "      <td>Знаменитые самолеты</td>\n",
       "      <td>126.43</td>\n",
       "      <td>Без НДС</td>\n",
       "      <td>Штука</td>\n",
       "      <td>NaN</td>\n",
       "      <td>58.11.13.000</td>\n",
       "      <td>Книги печатные для детей</td>\n",
       "      <td>68d2f4431dc6c29ae269b9012376eba0</td>\n",
       "      <td>643</td>\n",
       "      <td>19</td>\n",
       "    </tr>\n",
       "    <tr>\n",
       "      <th>1027145</th>\n",
       "      <td>МХ Костюм Пилот самолета</td>\n",
       "      <td>990.00</td>\n",
       "      <td>Без НДС</td>\n",
       "      <td>Комплект</td>\n",
       "      <td>Описание: МХ Костюм Пилот самолета || В компле...</td>\n",
       "      <td>13.92.29.190</td>\n",
       "      <td>Изделия текстильные готовые прочие, не включен...</td>\n",
       "      <td>800d1094deb61e215ba8c52c0efc5bb0</td>\n",
       "      <td>643.0</td>\n",
       "      <td>24</td>\n",
       "    </tr>\n",
       "    <tr>\n",
       "      <th>1029896</th>\n",
       "      <td>Набор для сборки кордового самолета F2D (дерев...</td>\n",
       "      <td>3500.00</td>\n",
       "      <td>0%</td>\n",
       "      <td>Комплект</td>\n",
       "      <td>Вид продукции: Товары || Вид товаров: Товары д...</td>\n",
       "      <td>58.11.13.000</td>\n",
       "      <td>Книги печатные для детей</td>\n",
       "      <td>047de0333f9ef84253d861fefcfef0dd</td>\n",
       "      <td>643.0</td>\n",
       "      <td>64</td>\n",
       "    </tr>\n",
       "    <tr>\n",
       "      <th>1040248</th>\n",
       "      <td>Развивающий набор Умные самолеты</td>\n",
       "      <td>795.00</td>\n",
       "      <td>Без НДС</td>\n",
       "      <td>Набор</td>\n",
       "      <td>Состав набора: 4 цветных фигурки самолетов, 10...</td>\n",
       "      <td>32.40.39.120</td>\n",
       "      <td>Игрушки в наборах или комплектах, не включенны...</td>\n",
       "      <td>97ae29614db7e49545d3787d2191144b</td>\n",
       "      <td>156.0</td>\n",
       "      <td>32</td>\n",
       "    </tr>\n",
       "    <tr>\n",
       "      <th>1053984</th>\n",
       "      <td>МХ Костюм Пилот самолета</td>\n",
       "      <td>570.50</td>\n",
       "      <td>Без НДС</td>\n",
       "      <td>Комплект</td>\n",
       "      <td>В комплект входит: жилетка и головной убор || ...</td>\n",
       "      <td>13.92.29.190</td>\n",
       "      <td>Изделия текстильные готовые прочие, не включен...</td>\n",
       "      <td>f5eed3a9ccce3ce0be67bebbc2b39197</td>\n",
       "      <td>643.0</td>\n",
       "      <td>24</td>\n",
       "    </tr>\n",
       "    <tr>\n",
       "      <th>1068758</th>\n",
       "      <td>Наклейки ЛИПУНЯ Зефирные самолеты, с европодвесом</td>\n",
       "      <td>97.94</td>\n",
       "      <td>20%</td>\n",
       "      <td>Штука</td>\n",
       "      <td>Описание: Наклейки ЛИПУНЯ Зефирные самолеты, с...</td>\n",
       "      <td>58.11.13.000</td>\n",
       "      <td>Книги печатные для детей</td>\n",
       "      <td>3ce5397064adfec4f56a7eeba43325ca</td>\n",
       "      <td>NaN</td>\n",
       "      <td>49</td>\n",
       "    </tr>\n",
       "    <tr>\n",
       "      <th>1077159</th>\n",
       "      <td>Модель кордового самолета F2D (смешанная компо...</td>\n",
       "      <td>6500.00</td>\n",
       "      <td>0%</td>\n",
       "      <td>Штука</td>\n",
       "      <td>Технические параметры: Размах - 1160мм, хорда ...</td>\n",
       "      <td>58.11.13.000</td>\n",
       "      <td>Книги печатные для детей</td>\n",
       "      <td>047de0333f9ef84253d861fefcfef0dd</td>\n",
       "      <td>643.0</td>\n",
       "      <td>75</td>\n",
       "    </tr>\n",
       "    <tr>\n",
       "      <th>1077332</th>\n",
       "      <td>Книга: Сказка о бумажном самолете</td>\n",
       "      <td>300.00</td>\n",
       "      <td>10%</td>\n",
       "      <td>Штука</td>\n",
       "      <td>Год выпуска: 2020г лет || Язык издания: русски...</td>\n",
       "      <td>58.1</td>\n",
       "      <td>Услуги по изданию книг, периодических изданий ...</td>\n",
       "      <td>937dc8a7c3e080273b528da0633333c3</td>\n",
       "      <td>643.0</td>\n",
       "      <td>33</td>\n",
       "    </tr>\n",
       "    <tr>\n",
       "      <th>1083303</th>\n",
       "      <td>Модель кордового самолета F2D (деревянная конс...</td>\n",
       "      <td>5700.00</td>\n",
       "      <td>0%</td>\n",
       "      <td>Штука</td>\n",
       "      <td>Описание: Модель кордового самолета F2D (дерев...</td>\n",
       "      <td>58.11.13.000</td>\n",
       "      <td>Книги печатные для детей</td>\n",
       "      <td>047de0333f9ef84253d861fefcfef0dd</td>\n",
       "      <td>643.0</td>\n",
       "      <td>79</td>\n",
       "    </tr>\n",
       "    <tr>\n",
       "      <th>1089639</th>\n",
       "      <td>Берестяной шаркунок самолет народное творчество</td>\n",
       "      <td>600.00</td>\n",
       "      <td>Без НДС</td>\n",
       "      <td>Штука</td>\n",
       "      <td>Материал: береста, дерево || Назначение: образ...</td>\n",
       "      <td>32.99.51</td>\n",
       "      <td>Изделия для праздников, карнавалов или прочие ...</td>\n",
       "      <td>0306f4ceb1e8d67546954de7e7a8a4a3</td>\n",
       "      <td>643.0</td>\n",
       "      <td>47</td>\n",
       "    </tr>\n",
       "    <tr>\n",
       "      <th>1131514</th>\n",
       "      <td>Модель кордового самолета класса F2D</td>\n",
       "      <td>4750.00</td>\n",
       "      <td>0%</td>\n",
       "      <td>Штука</td>\n",
       "      <td>Конструкция: Смешанная || Материал: Древесина,...</td>\n",
       "      <td>58.11.13.000</td>\n",
       "      <td>Книги печатные для детей</td>\n",
       "      <td>047de0333f9ef84253d861fefcfef0dd</td>\n",
       "      <td>643.0</td>\n",
       "      <td>36</td>\n",
       "    </tr>\n",
       "    <tr>\n",
       "      <th>1145248</th>\n",
       "      <td>Декорация Крыло самолета</td>\n",
       "      <td>15000.00</td>\n",
       "      <td>Без НДС</td>\n",
       "      <td>Штука</td>\n",
       "      <td>Вид декорация и оформление сцены: Плоскостная ...</td>\n",
       "      <td>13.92.16.119</td>\n",
       "      <td>Изделия мебельно-декоративные прочие, не включ...</td>\n",
       "      <td>ac4f8b37acd2a1cae228959285d9c2d5</td>\n",
       "      <td>643.0</td>\n",
       "      <td>24</td>\n",
       "    </tr>\n",
       "    <tr>\n",
       "      <th>1181636</th>\n",
       "      <td>МХ Костюм Пилот самолета</td>\n",
       "      <td>624.00</td>\n",
       "      <td>20%</td>\n",
       "      <td>Комплект</td>\n",
       "      <td>Описание: МХ Костюм Пилот самолета || В компле...</td>\n",
       "      <td>13.92.29.190</td>\n",
       "      <td>Изделия текстильные готовые прочие, не включен...</td>\n",
       "      <td>9b1b593b2657048048fede4c7c8c0935</td>\n",
       "      <td>643.0</td>\n",
       "      <td>24</td>\n",
       "    </tr>\n",
       "    <tr>\n",
       "      <th>1199872</th>\n",
       "      <td>Модель кордового самолета F2D (деревянная конс...</td>\n",
       "      <td>5200.00</td>\n",
       "      <td>0%</td>\n",
       "      <td>Штука</td>\n",
       "      <td>Вид продукции: Товары || Вид товаров: Товары д...</td>\n",
       "      <td>58.11.13.000</td>\n",
       "      <td>Книги печатные для детей</td>\n",
       "      <td>047de0333f9ef84253d861fefcfef0dd</td>\n",
       "      <td>643.0</td>\n",
       "      <td>54</td>\n",
       "    </tr>\n",
       "    <tr>\n",
       "      <th>1229878</th>\n",
       "      <td>Чехлы и устройства для защиты вертолетов и сам...</td>\n",
       "      <td>NaN</td>\n",
       "      <td>Без НДС</td>\n",
       "      <td>Штука</td>\n",
       "      <td>Плотность ткани, г/м2: 180 || Тип ткани: ткань...</td>\n",
       "      <td>13.99</td>\n",
       "      <td>Изделия текстильные прочие, не включенные в др...</td>\n",
       "      <td>df861b096102d33548630611a4925c15</td>\n",
       "      <td>643.0</td>\n",
       "      <td>167</td>\n",
       "    </tr>\n",
       "    <tr>\n",
       "      <th>1229879</th>\n",
       "      <td>Устройства и чехлы для защиты вертолетов и сам...</td>\n",
       "      <td>NaN</td>\n",
       "      <td>Без НДС</td>\n",
       "      <td>Штука</td>\n",
       "      <td>Описание: Устройства и чехлы для защиты вертол...</td>\n",
       "      <td>13.92.29.190</td>\n",
       "      <td>Изделия текстильные готовые прочие, не включен...</td>\n",
       "      <td>df861b096102d33548630611a4925c15</td>\n",
       "      <td>643.0</td>\n",
       "      <td>167</td>\n",
       "    </tr>\n",
       "    <tr>\n",
       "      <th>1326021</th>\n",
       "      <td>Поковка штампованная (часть шасси самолета) из...</td>\n",
       "      <td>NaN</td>\n",
       "      <td>Без НДС</td>\n",
       "      <td>Штука</td>\n",
       "      <td>Обработка: Возможна механическая и термическая...</td>\n",
       "      <td>30.30.50.110</td>\n",
       "      <td>Комплектующие (запасные части) летательных апп...</td>\n",
       "      <td>a850f933a687953ff0edeabd2406d3e1</td>\n",
       "      <td>643.0</td>\n",
       "      <td>98</td>\n",
       "    </tr>\n",
       "  </tbody>\n",
       "</table>\n",
       "</div>"
      ],
      "text/plain": [
       "                                              product_name       price  \\\n",
       "14842    Якубович Н.В. Ил-18 и его модификации. Авиалай...     1188.00   \n",
       "27664               вертолёты военные, самолет-истребитель      640.00   \n",
       "109281        Самые известные самолеты мира, Мерников А.Г.      953.70   \n",
       "118116                         Крапивин В.П. Ковер-самолет      844.40   \n",
       "157238   Русские самолеты Первой мировой: Крылья Россий...     1534.28   \n",
       "340089   поставка авиационно-технического имущества (ши...    75562.59   \n",
       "343705                     Пропавший самолет // Блайтон Э.      244.77   \n",
       "413764      Washing (Средство для мойки деталей самолетов)    14401.80   \n",
       "493746                                     Четыре самолета       46.56   \n",
       "640998   Кронштейн в сборе самолет крепления г/ц подъем...   145051.00   \n",
       "705844   Ил-18 и его модификации. Авиалайнер, разведчик...     1229.80   \n",
       "801780               Насосная станция НС-14 самолета Ан-74  4164528.05   \n",
       "858132   Мерников, А.Г., Самые известные самолеты мира ...     1062.00   \n",
       "905533                                 Знаменитые самолеты      126.43   \n",
       "1027145                           МХ Костюм Пилот самолета      990.00   \n",
       "1029896  Набор для сборки кордового самолета F2D (дерев...     3500.00   \n",
       "1040248                   Развивающий набор Умные самолеты      795.00   \n",
       "1053984                           МХ Костюм Пилот самолета      570.50   \n",
       "1068758  Наклейки ЛИПУНЯ Зефирные самолеты, с европодвесом       97.94   \n",
       "1077159  Модель кордового самолета F2D (смешанная компо...     6500.00   \n",
       "1077332                  Книга: Сказка о бумажном самолете      300.00   \n",
       "1083303  Модель кордового самолета F2D (деревянная конс...     5700.00   \n",
       "1089639    Берестяной шаркунок самолет народное творчество      600.00   \n",
       "1131514               Модель кордового самолета класса F2D     4750.00   \n",
       "1145248                           Декорация Крыло самолета    15000.00   \n",
       "1181636                           МХ Костюм Пилот самолета      624.00   \n",
       "1199872  Модель кордового самолета F2D (деревянная конс...     5200.00   \n",
       "1229878  Чехлы и устройства для защиты вертолетов и сам...         NaN   \n",
       "1229879  Устройства и чехлы для защиты вертолетов и сам...         NaN   \n",
       "1326021  Поковка штампованная (часть шасси самолета) из...         NaN   \n",
       "\n",
       "        product_vat_rate product_msr  \\\n",
       "14842                10%       Штука   \n",
       "27664            Без НДС       Штука   \n",
       "109281               10%       Штука   \n",
       "118116               10%       Штука   \n",
       "157238               10%       Штука   \n",
       "340089               20%       Штука   \n",
       "343705               10%       Штука   \n",
       "413764               20%       Штука   \n",
       "493746               10%       Штука   \n",
       "640998               20%       Штука   \n",
       "705844               10%       Штука   \n",
       "801780               20%       Штука   \n",
       "858132           Без НДС       Штука   \n",
       "905533           Без НДС       Штука   \n",
       "1027145          Без НДС    Комплект   \n",
       "1029896               0%    Комплект   \n",
       "1040248          Без НДС       Набор   \n",
       "1053984          Без НДС    Комплект   \n",
       "1068758              20%       Штука   \n",
       "1077159               0%       Штука   \n",
       "1077332              10%       Штука   \n",
       "1083303               0%       Штука   \n",
       "1089639          Без НДС       Штука   \n",
       "1131514               0%       Штука   \n",
       "1145248          Без НДС       Штука   \n",
       "1181636              20%    Комплект   \n",
       "1199872               0%       Штука   \n",
       "1229878          Без НДС       Штука   \n",
       "1229879          Без НДС       Штука   \n",
       "1326021          Без НДС       Штука   \n",
       "\n",
       "                                   product_characteristics    okpd2_code  \\\n",
       "14842                                                  NaN  58.11.12.000   \n",
       "27664                                                  NaN  32.40.39.191   \n",
       "109281                                                 NaN  58.11.12.000   \n",
       "118116                                                 NaN  58.11.13.000   \n",
       "157238                                                 NaN  58.11.12.000   \n",
       "340089                                                 NaN  30.30.50.110   \n",
       "343705                                                 NaN  58.11.13.000   \n",
       "413764                                                 NaN  30.30.50.110   \n",
       "493746                                                 NaN  58.11.19.000   \n",
       "640998                                                 NaN  29.32.30.390   \n",
       "705844                                                 NaN  58.11.19.000   \n",
       "801780                                                 NaN  30.30.50.110   \n",
       "858132                                                 NaN  58.11.12.000   \n",
       "905533                                                 NaN  58.11.13.000   \n",
       "1027145  Описание: МХ Костюм Пилот самолета || В компле...  13.92.29.190   \n",
       "1029896  Вид продукции: Товары || Вид товаров: Товары д...  58.11.13.000   \n",
       "1040248  Состав набора: 4 цветных фигурки самолетов, 10...  32.40.39.120   \n",
       "1053984  В комплект входит: жилетка и головной убор || ...  13.92.29.190   \n",
       "1068758  Описание: Наклейки ЛИПУНЯ Зефирные самолеты, с...  58.11.13.000   \n",
       "1077159  Технические параметры: Размах - 1160мм, хорда ...  58.11.13.000   \n",
       "1077332  Год выпуска: 2020г лет || Язык издания: русски...          58.1   \n",
       "1083303  Описание: Модель кордового самолета F2D (дерев...  58.11.13.000   \n",
       "1089639  Материал: береста, дерево || Назначение: образ...      32.99.51   \n",
       "1131514  Конструкция: Смешанная || Материал: Древесина,...  58.11.13.000   \n",
       "1145248  Вид декорация и оформление сцены: Плоскостная ...  13.92.16.119   \n",
       "1181636  Описание: МХ Костюм Пилот самолета || В компле...  13.92.29.190   \n",
       "1199872  Вид продукции: Товары || Вид товаров: Товары д...  58.11.13.000   \n",
       "1229878  Плотность ткани, г/м2: 180 || Тип ткани: ткань...         13.99   \n",
       "1229879  Описание: Устройства и чехлы для защиты вертол...  13.92.29.190   \n",
       "1326021  Обработка: Возможна механическая и термическая...  30.30.50.110   \n",
       "\n",
       "                                                okpd2_name  \\\n",
       "14842    Книги печатные профессиональные, технические и...   \n",
       "27664    Игрушки пластмассовые транспортные, технически...   \n",
       "109281   Книги печатные профессиональные, технические и...   \n",
       "118116                            Книги печатные для детей   \n",
       "157238   Книги печатные профессиональные, технические и...   \n",
       "340089   Комплектующие (запасные части) летательных апп...   \n",
       "343705                            Книги печатные для детей   \n",
       "413764   Комплектующие (запасные части) летательных апп...   \n",
       "493746   Книги, брошюры, листовки печатные прочие и под...   \n",
       "640998   Части и принадлежности для автотранспортных ср...   \n",
       "705844   Книги, брошюры, листовки печатные прочие и под...   \n",
       "801780   Комплектующие (запасные части) летательных апп...   \n",
       "858132   Книги печатные профессиональные, технические и...   \n",
       "905533                            Книги печатные для детей   \n",
       "1027145  Изделия текстильные готовые прочие, не включен...   \n",
       "1029896                           Книги печатные для детей   \n",
       "1040248  Игрушки в наборах или комплектах, не включенны...   \n",
       "1053984  Изделия текстильные готовые прочие, не включен...   \n",
       "1068758                           Книги печатные для детей   \n",
       "1077159                           Книги печатные для детей   \n",
       "1077332  Услуги по изданию книг, периодических изданий ...   \n",
       "1083303                           Книги печатные для детей   \n",
       "1089639  Изделия для праздников, карнавалов или прочие ...   \n",
       "1131514                           Книги печатные для детей   \n",
       "1145248  Изделия мебельно-декоративные прочие, не включ...   \n",
       "1181636  Изделия текстильные готовые прочие, не включен...   \n",
       "1199872                           Книги печатные для детей   \n",
       "1229878  Изделия текстильные прочие, не включенные в др...   \n",
       "1229879  Изделия текстильные готовые прочие, не включен...   \n",
       "1326021  Комплектующие (запасные части) летательных апп...   \n",
       "\n",
       "                                      inn  \\\n",
       "14842    48ebe6bab8fa4981f87d10a7a11c6015   \n",
       "27664    1bba9aa82f6272cf266575462abde922   \n",
       "109281   dbaf5fad2b91c802366234da30073c47   \n",
       "118116   41ecb902d89630764ae18827686c36ce   \n",
       "157238   48ebe6bab8fa4981f87d10a7a11c6015   \n",
       "340089   a44ad47c1033078afade69bf9ae8ecde   \n",
       "343705   4387c1e490667cf6958286f9819677ff   \n",
       "413764   4cca31fa316965eaf93fc4d3a28502d4   \n",
       "493746   48ebe6bab8fa4981f87d10a7a11c6015   \n",
       "640998   07c36f98c2c437f0f15cfd49cac00f29   \n",
       "705844   48ebe6bab8fa4981f87d10a7a11c6015   \n",
       "801780   5a61ed9094937cd965c893de073a3dbb   \n",
       "858132   60fbc053c7aa287289ec6ca1b38e7ef0   \n",
       "905533   68d2f4431dc6c29ae269b9012376eba0   \n",
       "1027145  800d1094deb61e215ba8c52c0efc5bb0   \n",
       "1029896  047de0333f9ef84253d861fefcfef0dd   \n",
       "1040248  97ae29614db7e49545d3787d2191144b   \n",
       "1053984  f5eed3a9ccce3ce0be67bebbc2b39197   \n",
       "1068758  3ce5397064adfec4f56a7eeba43325ca   \n",
       "1077159  047de0333f9ef84253d861fefcfef0dd   \n",
       "1077332  937dc8a7c3e080273b528da0633333c3   \n",
       "1083303  047de0333f9ef84253d861fefcfef0dd   \n",
       "1089639  0306f4ceb1e8d67546954de7e7a8a4a3   \n",
       "1131514  047de0333f9ef84253d861fefcfef0dd   \n",
       "1145248  ac4f8b37acd2a1cae228959285d9c2d5   \n",
       "1181636  9b1b593b2657048048fede4c7c8c0935   \n",
       "1199872  047de0333f9ef84253d861fefcfef0dd   \n",
       "1229878  df861b096102d33548630611a4925c15   \n",
       "1229879  df861b096102d33548630611a4925c15   \n",
       "1326021  a850f933a687953ff0edeabd2406d3e1   \n",
       "\n",
       "                                              country_code  lens  \n",
       "14842                                                  643   164  \n",
       "27664                                                  112    38  \n",
       "109281                                                 643    44  \n",
       "118116                                                 643    27  \n",
       "157238                                                 643    58  \n",
       "340089                                                 643   101  \n",
       "343705                                                 643    31  \n",
       "413764   250|792|276|056|156|376|398|498|356|512|756|61...    46  \n",
       "493746                                                 643    15  \n",
       "640998                                                 643    76  \n",
       "705844                                                 643   108  \n",
       "801780                                                 643    37  \n",
       "858132                                                 643   166  \n",
       "905533                                                 643    19  \n",
       "1027145                                              643.0    24  \n",
       "1029896                                              643.0    64  \n",
       "1040248                                              156.0    32  \n",
       "1053984                                              643.0    24  \n",
       "1068758                                                NaN    49  \n",
       "1077159                                              643.0    75  \n",
       "1077332                                              643.0    33  \n",
       "1083303                                              643.0    79  \n",
       "1089639                                              643.0    47  \n",
       "1131514                                              643.0    36  \n",
       "1145248                                              643.0    24  \n",
       "1181636                                              643.0    24  \n",
       "1199872                                              643.0    54  \n",
       "1229878                                              643.0   167  \n",
       "1229879                                              643.0   167  \n",
       "1326021                                              643.0    98  "
      ]
     },
     "execution_count": 286,
     "metadata": {},
     "output_type": "execute_result"
    }
   ],
   "source": [
    "df[df['product_name'].str.contains('самолет')]"
   ]
  }
 ],
 "metadata": {
  "kernelspec": {
   "display_name": "Python 3 (ipykernel)",
   "language": "python",
   "name": "python3"
  },
  "language_info": {
   "codemirror_mode": {
    "name": "ipython",
    "version": 3
   },
   "file_extension": ".py",
   "mimetype": "text/x-python",
   "name": "python",
   "nbconvert_exporter": "python",
   "pygments_lexer": "ipython3",
   "version": "3.9.13"
  }
 },
 "nbformat": 4,
 "nbformat_minor": 5
}
